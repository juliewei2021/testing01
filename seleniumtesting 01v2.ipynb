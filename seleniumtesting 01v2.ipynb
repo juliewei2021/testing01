{
 "cells": [
  {
   "cell_type": "code",
   "execution_count": 1,
   "metadata": {},
   "outputs": [],
   "source": [
    "from selenium import webdriver\n",
    "from selenium.webdriver.common.keys import Keys\n",
    "from selenium.webdriver.common.by import By\n",
    "from webdriver_manager.chrome import ChromeDriverManager"
   ]
  },
  {
   "cell_type": "code",
   "execution_count": 2,
   "metadata": {},
   "outputs": [],
   "source": [
    "# driver = webdriver.Chrome(ChromeDriverManager().install())\n",
    "my_account = {}\n",
    "driver = webdriver.Chrome()\n",
    "driver.get(\"https://github.com/juliewei2021\")"
   ]
  },
  {
   "cell_type": "code",
   "execution_count": 3,
   "metadata": {},
   "outputs": [],
   "source": [
    "my_account[\"login\"] = driver.find_element_by_xpath('//meta[@property=\"profile:username\"]').get_attribute('content')\n",
    "my_account[\"id\"] = driver.find_element_by_class_name('js-site-search-form').get_attribute('data-scope-id')\n",
    "my_account[\"html_url\"] = driver.find_element_by_xpath('//meta[@property=\"og:url\"]').get_attribute('content')\n",
    "my_account[\"type\"] = driver.find_element_by_class_name('js-site-search-form').get_attribute('data-scope-type') \n",
    "my_account[\"location\"] = driver.find_element_by_xpath('//span[@itemprop=\"location\"]').get_attribute('title') \n",
    "my_account[\"email\"] = driver.find_element_by_xpath('//a[@class=\"color-text-primary\"]').get_attribute('href').replace(\"mailto:\",\"\")"
   ]
  },
  {
   "cell_type": "code",
   "execution_count": 4,
   "metadata": {},
   "outputs": [
    {
     "data": {
      "text/plain": [
       "{'login': 'juliewei2021',\n",
       " 'id': '90119602',\n",
       " 'html_url': 'https://github.com/juliewei2021',\n",
       " 'type': 'Organization',\n",
       " 'location': 'United States of America',\n",
       " 'email': 'juliewei2021@gmail.com'}"
      ]
     },
     "execution_count": 4,
     "metadata": {},
     "output_type": "execute_result"
    }
   ],
   "source": [
    "my_account"
   ]
  },
  {
   "cell_type": "code",
   "execution_count": null,
   "metadata": {},
   "outputs": [],
   "source": []
  }
 ],
 "metadata": {
  "kernelspec": {
   "display_name": "Python 3",
   "language": "python",
   "name": "python3"
  },
  "language_info": {
   "codemirror_mode": {
    "name": "ipython",
    "version": 3
   },
   "file_extension": ".py",
   "mimetype": "text/x-python",
   "name": "python",
   "nbconvert_exporter": "python",
   "pygments_lexer": "ipython3",
   "version": "3.7.4"
  }
 },
 "nbformat": 4,
 "nbformat_minor": 2
}
